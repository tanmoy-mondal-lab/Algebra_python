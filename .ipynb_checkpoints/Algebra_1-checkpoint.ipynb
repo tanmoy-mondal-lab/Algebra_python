{
 "cells": [
  {
   "cell_type": "markdown",
   "id": "e39a5633-d672-414a-8024-5fcf54f26a3e",
   "metadata": {},
   "source": [
    "# Ratio and Proportion"
   ]
  },
  {
   "cell_type": "code",
   "execution_count": 8,
   "id": "b4755b19-f880-42f5-8dd5-32f6ea46f5a5",
   "metadata": {},
   "outputs": [],
   "source": [
    "#evolving a function for making proportional math\n",
    "def proportion(n1 = None,d1 = None,n2 = None,d2 = None):\n",
    "    answer = 0\n",
    "    if n1 == None:\n",
    "        answer = n2 * d1 / d2\n",
    "        print(f\"n1 = {answer}\")\n",
    "    elif d1 == None:\n",
    "        answer = n1 * d2 / n2\n",
    "        print(f\"d1 = {answer}\")\n",
    "    elif n2 == None:\n",
    "        answer = n1 * d2 / d1\n",
    "        print(f\"n2 = {answer}\")\n",
    "    elif d2 == None:\n",
    "        answer = d1 * n2 / n1\n",
    "        print(f\"d2 = {answer}\")\n",
    "    return answer\n",
    "        "
   ]
  },
  {
   "cell_type": "code",
   "execution_count": 7,
   "id": "e502d96e-a8e4-4dbb-af7a-f1b936b11419",
   "metadata": {},
   "outputs": [
    {
     "name": "stdout",
     "output_type": "stream",
     "text": [
      "d2 = 10.0\n"
     ]
    },
    {
     "data": {
      "text/plain": [
       "10.0"
      ]
     },
     "execution_count": 7,
     "metadata": {},
     "output_type": "execute_result"
    }
   ],
   "source": [
    "# keeping the required position empty\n",
    "a = proportion(n1 = 2,d1 = 4,n2 = 5)\n",
    "a"
   ]
  },
  {
   "cell_type": "markdown",
   "id": "68faf7a4-4a0c-4938-9c8d-466d9877869c",
   "metadata": {},
   "source": [
    "# Numbers"
   ]
  },
  {
   "cell_type": "code",
   "execution_count": null,
   "id": "b9da5340-e546-4554-a28d-de6023a3805a",
   "metadata": {},
   "outputs": [],
   "source": [
    "# converting string to float\n",
    "def string_frac(in_string):\n",
    "    if \"/\" in in_string:\n",
    "        nd = in_string.split(\"/\")\n",
    "        n = float(nd[0])\n",
    "        d = float(nd[1])\n",
    "        ans = n/d\n",
    "        return ans\n",
    "    else:\n",
    "        ans = float(in_string)\n",
    "        return ans"
   ]
  }
 ],
 "metadata": {
  "kernelspec": {
   "display_name": "Python 3 (ipykernel)",
   "language": "python",
   "name": "python3"
  },
  "language_info": {
   "codemirror_mode": {
    "name": "ipython",
    "version": 3
   },
   "file_extension": ".py",
   "mimetype": "text/x-python",
   "name": "python",
   "nbconvert_exporter": "python",
   "pygments_lexer": "ipython3",
   "version": "3.10.16"
  }
 },
 "nbformat": 4,
 "nbformat_minor": 5
}
